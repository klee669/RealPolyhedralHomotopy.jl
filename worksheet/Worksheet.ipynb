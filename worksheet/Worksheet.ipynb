{
 "cells": [
  {
   "cell_type": "markdown",
   "id": "652f07a7-9bb7-418b-aba2-97d8ef8ee23a",
   "metadata": {
    "tags": []
   },
   "source": [
    "# RealPolyhedralHomotopy.jl\n",
    "## A package for finding the real solutions of a system of polynomial equations using polyhedral homotopy\n",
    "\n",
    "To run the package, run the following in the `RealPolyhedralHomotopy` folder."
   ]
  },
  {
   "cell_type": "code",
   "execution_count": 11,
   "id": "7c9f6bd6-41bb-4c97-8697-b02acb079653",
   "metadata": {},
   "outputs": [],
   "source": [
    "using Pkg\n",
    "Pkg.activate(\"../Project.toml\")\n",
    "\n",
    "using RealPolyhedralHomotopy\n",
    "@var x y;\n",
    "F = System([-1 - 24000*y + x^3, -9 + 50*x*y - 1*y^2]);"
   ]
  },
  {
   "cell_type": "markdown",
   "id": "b2d00367-6143-49fd-b2fe-fe782919102c",
   "metadata": {
    "tags": []
   },
   "source": [
    "## Certify a system is patchworked\n",
    "This function certifies if a given system is patchworked, meaning that all real solutions can be found using the real polyhedral homotopy. It returns the value 1 if the system is certified to be patchworked. Otherwise, 0 is returned. "
   ]
  },
  {
   "cell_type": "code",
   "execution_count": 8,
   "id": "95744474-9e2b-4380-8b81-95c2daa5d5f6",
   "metadata": {},
   "outputs": [
    {
     "data": {
      "text/plain": [
       "1"
      ]
     },
     "execution_count": 8,
     "metadata": {},
     "output_type": "execute_result"
    }
   ],
   "source": [
    "result = certify_patchwork(F)"
   ]
  },
  {
   "cell_type": "markdown",
   "id": "f65c7550-a2a8-4c8e-b79f-082adf8ce645",
   "metadata": {
    "tags": []
   },
   "source": [
    "## Generating start binomial systems\n",
    "This function takes as an input a target system and outputs a collection of binomial systems (which are the start system for the real polyhedral homotopy). "
   ]
  },
  {
   "cell_type": "code",
   "execution_count": 9,
   "id": "06fe5786-0733-4de3-87e3-72f1b9d310da",
   "metadata": {
    "tags": []
   },
   "outputs": [
    {
     "data": {
      "text/plain": [
       "2-element Vector{Any}:\n",
       " Expression[-24000*y + x^3, 50*x*y - y^2]\n",
       " Expression[-24000*y + x^3, -9 + 50*x*y]"
      ]
     },
     "execution_count": 9,
     "metadata": {},
     "output_type": "execute_result"
    }
   ],
   "source": [
    "B = generate_binomials(F)"
   ]
  },
  {
   "cell_type": "markdown",
   "id": "758697e3-45c9-4f91-98b8-90b994e7f822",
   "metadata": {
    "tags": []
   },
   "source": [
    "## Tracking the real solutions\n",
    "This function takes a list of binomial systems and a target polynomial system as its input. It returns the output of tracking the real solutions of the binomial systems to the target system."
   ]
  },
  {
   "cell_type": "code",
   "execution_count": 10,
   "id": "27b9737e-c2a3-4841-a64e-0639c8f04d20",
   "metadata": {},
   "outputs": [
    {
     "data": {
      "text/plain": [
       "4-element Vector{Vector{Float64}}:\n",
       " [-1095.4451129504978, -54772.25548320812]\n",
       " [1095.4451137838312, 54772.255524874796]\n",
       " [8.111114476617955, 0.022192986067639583]\n",
       " [-8.103507635567631, -0.022213821121964985]"
      ]
     },
     "execution_count": 10,
     "metadata": {},
     "output_type": "execute_result"
    }
   ],
   "source": [
    "realSols = rph_track(B,F)"
   ]
  }
 ],
 "metadata": {
  "kernelspec": {
   "display_name": "Julia 1.6.1",
   "language": "julia",
   "name": "julia-1.6"
  },
  "language_info": {
   "file_extension": ".jl",
   "mimetype": "application/julia",
   "name": "julia",
   "version": "1.6.1"
  }
 },
 "nbformat": 4,
 "nbformat_minor": 5
}
